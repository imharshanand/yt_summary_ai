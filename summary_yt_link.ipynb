{
 "cells": [
  {
   "cell_type": "code",
   "execution_count": 3,
   "id": "30a1181c-55f8-42c5-b9db-690665ce2446",
   "metadata": {},
   "outputs": [
    {
     "name": "stderr",
     "output_type": "stream",
     "text": [
      "Special tokens have been added in the vocabulary, make sure the associated word embeddings are fine-tuned or trained.\n"
     ]
    },
    {
     "name": "stdin",
     "output_type": "stream",
     "text": [
      "Enter the YouTube video URL:  https://www.youtube.com/watch?v=_B6vtMa-US4\n"
     ]
    },
    {
     "name": "stdout",
     "output_type": "stream",
     "text": [
      "Extracted video ID: _B6vtMa-US4\n",
      "Transcript retrieved successfully.\n",
      "Summary:\n",
      "the RTX 4060 TI supports all of nvidia's latest Ray tracing and AI upscaling bells and whistles it's much more power efficient than the card that it replaces. it supports all of nvidia's latest Ray tracing and AI upscaling bells and whistles it's much more power efficient than the card that it replaces and it supports av1 encoding which is a huge deal if you stream to YouTube. a... n a new nvidia's. and nvidia's latest. and a..\n"
     ]
    }
   ],
   "source": [
    "import torch\n",
    "from transformers import T5ForConditionalGeneration, T5Tokenizer\n",
    "import os\n",
    "from googleapiclient.discovery import build\n",
    "from youtube_transcript_api import YouTubeTranscriptApi\n",
    "import re\n",
    "\n",
    "# Directory where the model is saved\n",
    "model_dir = \"./model\"\n",
    "\n",
    "# Load the model and tokenizer\n",
    "device = torch.device('cuda' if torch.cuda.is_available() else 'cpu')\n",
    "model = T5ForConditionalGeneration.from_pretrained(model_dir).to(device)\n",
    "tokenizer = T5Tokenizer.from_pretrained(model_dir)\n",
    "\n",
    "# Function to extract video ID from YouTube URL\n",
    "def extract_video_id(youtube_url):\n",
    "    video_id_match = re.match(r'(https?://)?(www\\.)?(youtube\\.com|youtu\\.?be)/.+((v=|\\/)([^#\\&\\?]*))', youtube_url)\n",
    "    if video_id_match:\n",
    "        video_id = video_id_match.groups()[-1]\n",
    "        return video_id\n",
    "    return None\n",
    "\n",
    "# Function to get transcript from YouTube video ID\n",
    "def get_transcript(video_id):\n",
    "    try:\n",
    "        transcript = YouTubeTranscriptApi.get_transcript(video_id)\n",
    "        transcript_text = ' '.join([item['text'] for item in transcript])\n",
    "        return transcript_text\n",
    "    except Exception as e:\n",
    "        print(f\"Error retrieving transcript: {e}\")\n",
    "        return None\n",
    "\n",
    "# Function to clean the transcript text\n",
    "def clean_text(text):\n",
    "    text = re.sub(r'\\s+', ' ', text)  # Remove excessive whitespace\n",
    "    text = text.strip()  # Remove leading and trailing whitespace\n",
    "    return text\n",
    "\n",
    "# Function to summarize text using the T5 model\n",
    "def summarize_text(text):\n",
    "    inputs = tokenizer.encode(\"summarize: \" + text, return_tensors=\"pt\", max_length=512, truncation=True).to(device)\n",
    "    summary_ids = model.generate(inputs, max_length=500, min_length=150, length_penalty=2.0, num_beams=5, early_stopping=True)\n",
    "    summary = tokenizer.decode(summary_ids[0], skip_special_tokens=True)\n",
    "    return summary\n",
    "\n",
    "# Function to summarize YouTube video by URL\n",
    "def summarize_youtube_video(youtube_url):\n",
    "    video_id = extract_video_id(youtube_url)\n",
    "    if video_id:\n",
    "        print(f\"Extracted video ID: {video_id}\")\n",
    "        transcript = get_transcript(video_id)\n",
    "        if transcript:\n",
    "            print(\"Transcript retrieved successfully.\")\n",
    "            cleaned_transcript = clean_text(transcript)\n",
    "            summary = summarize_text(cleaned_transcript)\n",
    "            print(\"Summary:\")\n",
    "            print(summary)\n",
    "        else:\n",
    "            print(\"Failed to retrieve transcript.\")\n",
    "    else:\n",
    "        print(\"Invalid YouTube URL.\")\n",
    "\n",
    "# User input for YouTube URL\n",
    "youtube_url = input(\"Enter the YouTube video URL: \")\n",
    "summarize_youtube_video(youtube_url)\n"
   ]
  },
  {
   "cell_type": "code",
   "execution_count": null,
   "id": "cc579f14-a11a-4ea9-b698-b3dca98c909a",
   "metadata": {},
   "outputs": [],
   "source": []
  }
 ],
 "metadata": {
  "kernelspec": {
   "display_name": "Python 3 (ipykernel)",
   "language": "python",
   "name": "python3"
  },
  "language_info": {
   "codemirror_mode": {
    "name": "ipython",
    "version": 3
   },
   "file_extension": ".py",
   "mimetype": "text/x-python",
   "name": "python",
   "nbconvert_exporter": "python",
   "pygments_lexer": "ipython3",
   "version": "3.8.19"
  }
 },
 "nbformat": 4,
 "nbformat_minor": 5
}
